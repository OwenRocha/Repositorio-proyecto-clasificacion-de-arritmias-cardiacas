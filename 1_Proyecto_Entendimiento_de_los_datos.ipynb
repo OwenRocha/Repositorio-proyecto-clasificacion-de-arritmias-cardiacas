{
  "cells": [
    {
      "cell_type": "markdown",
      "metadata": {
        "id": "xArAixcgYBfb"
      },
      "source": [
        "## Entendimiento de los datos\n",
        "\n",
        "Montar Google Drive y cargar archivos:"
      ]
    },
    {
      "cell_type": "code",
      "execution_count": null,
      "metadata": {
        "colab": {
          "base_uri": "https://localhost:8080/"
        },
        "id": "OS-AEO9pX_WK",
        "outputId": "7810a9bd-b4c6-47b0-bbfe-931b09a606df"
      },
      "outputs": [
        {
          "output_type": "stream",
          "name": "stdout",
          "text": [
            "Mounted at /content/drive\n"
          ]
        }
      ],
      "source": [
        "from google.colab import drive\n",
        "drive.mount('/content/drive')\n",
        "\n",
        "import os\n",
        "from scipy.io import loadmat\n",
        "import random\n",
        "\n",
        "# Ruta a la carpeta \"base\" en Google Drive\n",
        "ruta_a_tus_archivos = '/content/drive/My Drive/training/'\n",
        "\n",
        "path = '/content/drive/My Drive/training/'\n",
        "all_files = sorted(os.listdir(path))\n",
        "\n",
        "hea_files = [f for f in all_files if f.endswith('.hea')]\n",
        "mat_files = [f for f in all_files if f.endswith('.mat')]\n",
        "\n",
        "# Asumimos que por cada archivo .hea hay un archivo .mat con el mismo nombre base\n",
        "paired_files = [(os.path.join(path, h), os.path.join(path, m)) for h, m in zip(hea_files, mat_files)]\n",
        "\n",
        "# Crear una lista para almacenar la información de los ECG\n",
        "ecg_info = []\n",
        "\n",
        "\n"
      ]
    },
    {
      "cell_type": "markdown",
      "metadata": {
        "id": "JllY820d2iyN"
      },
      "source": [
        "Leer e imprimir información de registros seleccionados al azar:"
      ]
    },
    {
      "cell_type": "code",
      "execution_count": null,
      "metadata": {
        "colab": {
          "base_uri": "https://localhost:8080/"
        },
        "id": "uPbnBujNskOF",
        "outputId": "a606adef-9df7-4344-f54c-43319e9d0c30"
      },
      "outputs": [
        {
          "output_type": "stream",
          "name": "stdout",
          "text": [
            "Información para el archivo: /content/drive/My Drive/training/a550s.hea\n",
            "Contenido del archivo .hea:\n",
            "a550s 4 250 75000\n",
            "a550s.mat 16+24 407.3/mV 16 0 299 -26355 0 II\n",
            "a550s.mat 16+24 553.5/mV 16 0 964 -9225 0 V\n",
            "a550s.mat 16+24 5894/NU 16 0 11377 18788 0 PLETH\n",
            "a550s.mat 16+24 8193/NU 16 0 1401 -26638 0 RESP\n",
            "#Asystole\n",
            "#False alarm\n",
            "\n",
            "Contenido del archivo .mat:\n",
            "{'val': array([[   299,    400,    404, ..., -32768, -32768, -32768],\n",
            "       [   964,   1306,   1350, ..., -32768, -32768, -32768],\n",
            "       [ 11377,  15453,  15941, ...,  15962,  16084,  16253],\n",
            "       [  1401,   1902,   1962, ..., -32768, -32768, -32768]], dtype=int16)}\n",
            "\n",
            "\n",
            "Información para el archivo: /content/drive/My Drive/training/b265l.hea\n",
            "Contenido del archivo .hea:\n",
            "b265l 3 250 82500\n",
            "b265l.mat 16+24 1.365e+04/mV 16 0 3547 21780 0 II\n",
            "b265l.mat 16+24 1.004e+04/mV 16 0 8546 7882 0 V\n",
            "b265l.mat 16+24 8498/NU 16 0 2566 3073 0 PLETH\n",
            "#Bradycardia\n",
            "#True alarm\n",
            "\n",
            "Contenido del archivo .mat:\n",
            "{'val': array([[ 3547,  3987,  3440, ..., 12753, 12685, 11147],\n",
            "       [ 8546,  9682,  8546, ...,  7298,  5175,  3188],\n",
            "       [ 2566,  2892,  2533, ...,  5194,  5199,  5209]], dtype=int16)}\n",
            "\n",
            "\n",
            "Información para el archivo: /content/drive/My Drive/training/b349l.hea\n",
            "Contenido del archivo .hea:\n",
            "b349l 4 250 82500\n",
            "b349l.mat 16+24 2.593e+04/mV 16 0 12609 -4139 0 I\n",
            "b349l.mat 16+24 2.435e+04/mV 16 0 13276 -10604 0 MCL\n",
            "b349l.mat 16+24 76.91/mmHg 16 0 8593 24477 0 ABP\n",
            "b349l.mat 16+24 5811/NU 16 0 2051 -27677 0 RESP\n",
            "#Bradycardia\n",
            "#False alarm\n",
            "\n",
            "Contenido del archivo .mat:\n",
            "{'val': array([[12609, 14330, 12711, ..., 14518, 14542, 14537],\n",
            "       [13276, 15044, 13276, ..., 13767, 13849, 13928],\n",
            "       [ 8593,  9761,  8653, ...,  5469,  5588,  5710],\n",
            "       [ 2051,  2332,  2074, ...,  4792,  4785,  4779]], dtype=int16)}\n",
            "\n",
            "\n",
            "Información para el archivo: /content/drive/My Drive/training/f236s.hea\n",
            "Contenido del archivo .hea:\n",
            "f236s 4 250 75000\n",
            "f236s.mat 16+24 2992/mV 16 0 -1349 -30966 0 II\n",
            "f236s.mat 16+24 3088/mV 16 0 5299 -32557 0 V\n",
            "f236s.mat 16+24 43.71/mmHg 16 0 1673 -3026 0 ABP\n",
            "f236s.mat 16+24 4099/NU 16 0 1109 17100 0 RESP\n",
            "#Ventricular_Flutter_Fib\n",
            "#False alarm\n",
            "\n",
            "Contenido del archivo .mat:\n",
            "{'val': array([[-1349, -1651, -1584, ...,  -886,  -939,  -876],\n",
            "       [ 5299,  5926,  5184, ...,  6406,  6404,  6406],\n",
            "       [ 1673,  1896,  1673, ...,  4685,  4610,  4539],\n",
            "       [ 1109,  1289,  1190, ...,   462,   531,   617]], dtype=int16)}\n",
            "\n",
            "\n",
            "Información para el archivo: /content/drive/My Drive/training/t580s.hea\n",
            "Contenido del archivo .hea:\n",
            "t580s 3 250 75000\n",
            "t580s.mat 16+24 4181/mV 16 0 877 19950 0 II\n",
            "t580s.mat 16+24 5334/mV 16 0 6604 -30351 0 V\n",
            "t580s.mat 16+24 7203/NU 16 0 4492 23634 0 PLETH\n",
            "#Tachycardia\n",
            "#True alarm\n",
            "\n",
            "Contenido del archivo .mat:\n",
            "{'val': array([[ 877, 1786, 2787, ...,  195,  258,  299],\n",
            "       [6604, 8020, 7620, ..., 4454, 4572, 4675],\n",
            "       [4492, 5088, 4492, ..., 3612, 3616, 3612]], dtype=int16)}\n",
            "\n",
            "\n"
          ]
        }
      ],
      "source": [
        "# Recorrer los archivos emparejados .hea y .mat\n",
        "for hea_file, mat_file in paired_files:\n",
        "    # Leer y procesar el archivo .hea\n",
        "    with open(hea_file, 'r') as f:\n",
        "        hea_content = f.read()\n",
        "\n",
        "    # Leer el archivo .mat\n",
        "    mat_content = loadmat(mat_file)\n",
        "\n",
        "    ecg_info.append({\"File\": hea_file, \"HEA Content\": hea_content, \"MAT Content\": mat_content})\n",
        "\n",
        "# Seleccionar al azar 5 registros y ordenarlos por nombre de archivo\n",
        "random_sample = random.sample(ecg_info, min(5, len(ecg_info)))\n",
        "random_sample_sorted = sorted(random_sample, key=lambda x: x[\"File\"])\n",
        "\n",
        "# Imprimir la información de los 5 registros seleccionados al azar\n",
        "for record in random_sample_sorted:\n",
        "    print(\"Información para el archivo:\", record[\"File\"])\n",
        "    print(\"Contenido del archivo .hea:\")\n",
        "    print(record[\"HEA Content\"])\n",
        "    print(\"Contenido del archivo .mat:\")\n",
        "    print(record[\"MAT Content\"])\n",
        "    print(\"\\n\")\n"
      ]
    },
    {
      "cell_type": "markdown",
      "metadata": {
        "id": "WLjFnAAWkKMA"
      },
      "source": [
        "Obtener comentarios únicos de archivos .hea:"
      ]
    },
    {
      "cell_type": "code",
      "execution_count": null,
      "metadata": {
        "colab": {
          "base_uri": "https://localhost:8080/"
        },
        "id": "EJfX5OzXgJKW",
        "outputId": "4fd0ddfe-31c4-4666-c6bd-85bcd355767f"
      },
      "outputs": [
        {
          "output_type": "stream",
          "name": "stdout",
          "text": [
            "Lista de Comentarios Posibles:\n",
            "#Asystole\n",
            "#Ventricular_Flutter_Fib\n",
            "#Tachycardia\n",
            "#Bradycardia\n",
            "#True alarm\n",
            "#Ventricular_Tachycardia\n",
            "#False alarm\n"
          ]
        }
      ],
      "source": [
        "# Crear una lista para almacenar los comentarios\n",
        "comments_list = []\n",
        "\n",
        "# Recorrer los archivos .hea\n",
        "for hea_file in hea_files:\n",
        "    hea_path = os.path.join(path, hea_file)\n",
        "    with open(hea_path, 'r') as f:\n",
        "        hea_content = f.read()\n",
        "        # Buscar líneas que comiencen con '#'\n",
        "        comments = [line.strip() for line in hea_content.splitlines() if line.startswith('#')]\n",
        "        # Agregar los comentarios a la lista\n",
        "        comments_list.extend(comments)\n",
        "\n",
        "# Obtener comentarios únicos\n",
        "unique_comments = list(set(comments_list))\n",
        "\n",
        "# Imprimir la lista de comentarios únicos\n",
        "print(\"Lista de Comentarios Posibles:\")\n",
        "for comment in unique_comments:\n",
        "    print(comment)\n"
      ]
    },
    {
      "cell_type": "markdown",
      "metadata": {
        "id": "_o305kiz3BJP"
      },
      "source": [
        "Crear DataFrame con información de los ECG:"
      ]
    },
    {
      "cell_type": "code",
      "execution_count": null,
      "metadata": {
        "colab": {
          "base_uri": "https://localhost:8080/"
        },
        "id": "DsTZSmfJ3Da-",
        "outputId": "871ed2e9-fde4-49d0-b1fe-8263da756833"
      },
      "outputs": [
        {
          "output_type": "stream",
          "name": "stdout",
          "text": [
            "Tabla de Información de los Electrocardiogramas:\n",
            "    Record Name  Duration (s)   Alarm Type          Arrhythmia Type\n",
            "0         a103l         330.0  False alarm                 Asystole\n",
            "1         a104s         300.0  False alarm                 Asystole\n",
            "2         a105l         330.0  False alarm                 Asystole\n",
            "3         a109l         330.0  False alarm                 Asystole\n",
            "4         a123l         330.0  False alarm                 Asystole\n",
            "..          ...           ...          ...                      ...\n",
            "745       v843l         330.0  False alarm  Ventricular_Tachycardia\n",
            "746       v844s         300.0   True alarm  Ventricular_Tachycardia\n",
            "747       v845l         330.0  False alarm  Ventricular_Tachycardia\n",
            "748       v846s         300.0  False alarm  Ventricular_Tachycardia\n",
            "749       v848s         300.0  False alarm  Ventricular_Tachycardia\n",
            "\n",
            "[750 rows x 4 columns]\n"
          ]
        }
      ],
      "source": [
        "import pandas as pd\n",
        "\n",
        "# Crear una lista para almacenar la información de los ECG\n",
        "ecg_info = []\n",
        "\n",
        "# Recorrer los archivos emparejados .hea y .mat\n",
        "for hea_file, mat_file in paired_files:\n",
        "    # Leer y procesar el archivo .hea\n",
        "    with open(hea_file, 'r') as f:\n",
        "        hea_content = f.read()\n",
        "\n",
        "    # Leer el archivo .mat\n",
        "    mat_content = loadmat(mat_file)\n",
        "\n",
        "    # Extraer información específica según las necesidades\n",
        "    record_name = hea_file.split(\"/\")[-1].split(\".\")[0]\n",
        "    duration_seconds = len(mat_content['val'][0]) / 250.0  # Duración en segundos\n",
        "    alarm_type = None\n",
        "    arrhythmia_type = None\n",
        "\n",
        "    # Leer el tipo de alarma desde el archivo .hea\n",
        "    if \"True alarm\" in hea_content:\n",
        "        alarm_type = \"True alarm\"\n",
        "    elif \"False alarm\" in hea_content:\n",
        "        alarm_type = \"False alarm\"\n",
        "\n",
        "    # Leer el tipo de arritmia desde el archivo .hea\n",
        "    possible_comments = [\"#Bradycardia\", \"#Ventricular_Tachycardia\", \"#Tachycardia\", \"#Ventricular_Flutter_Fib\", \"#Asystole\"]\n",
        "    arrhythmia_type = [comment[1:] for comment in possible_comments if comment in hea_content]\n",
        "\n",
        "    # Agregar a la lista ecg_info\n",
        "    ecg_info.append({\"Record Name\": record_name, \"Duration (s)\": duration_seconds,\n",
        "                     \"Alarm Type\": alarm_type, \"Arrhythmia Type\": arrhythmia_type[0] if arrhythmia_type else None})\n",
        "\n",
        "# Crear un DataFrame con la información de los ECG\n",
        "info_df = pd.DataFrame(ecg_info)\n",
        "\n",
        "# Imprimir la tabla de información\n",
        "print(\"Tabla de Información de los Electrocardiogramas:\")\n",
        "print(info_df)\n"
      ]
    },
    {
      "cell_type": "markdown",
      "metadata": {
        "id": "jit-Cbas3Lr9"
      },
      "source": [
        "Imprimir la tabla de frecuencias para el Tipo de Arritmia:"
      ]
    },
    {
      "cell_type": "code",
      "execution_count": null,
      "metadata": {
        "colab": {
          "base_uri": "https://localhost:8080/"
        },
        "id": "BsdFOCEn3O-x",
        "outputId": "a130c7d2-327e-441c-cbde-1bd39e0500f3"
      },
      "outputs": [
        {
          "output_type": "stream",
          "name": "stdout",
          "text": [
            "\n",
            "Tabla de Frecuencias - Tipo de Arritmia con respecto al Tipo de Alarma:\n",
            "     Alarm Type          Arrhythmia Type  Conteo\n",
            "0   False alarm                 Asystole     100\n",
            "1   False alarm              Bradycardia      43\n",
            "2   False alarm              Tachycardia       9\n",
            "3   False alarm  Ventricular_Flutter_Fib      52\n",
            "4   False alarm  Ventricular_Tachycardia     252\n",
            "5    True alarm                 Asystole      22\n",
            "6    True alarm              Bradycardia      46\n",
            "7    True alarm              Tachycardia     131\n",
            "8    True alarm  Ventricular_Flutter_Fib       6\n",
            "9    True alarm  Ventricular_Tachycardia      89\n",
            "10        Total                              750\n"
          ]
        }
      ],
      "source": [
        "# Generar la tabla de frecuencias\n",
        "arrhythmia_table = info_df.groupby([\"Alarm Type\", \"Arrhythmia Type\"]).size().reset_index(name='Conteo')\n",
        "\n",
        "# Agregar una fila para el total al final de la tabla\n",
        "total_row = {\"Alarm Type\": \"Total\", \"Arrhythmia Type\": \"\", \"Conteo\": arrhythmia_table[\"Conteo\"].sum()}\n",
        "arrhythmia_table = pd.concat([arrhythmia_table, pd.DataFrame([total_row])], ignore_index=True)\n",
        "\n",
        "# Imprimir la tabla de frecuencias\n",
        "print(\"\\nTabla de Frecuencias - Tipo de Arritmia con respecto al Tipo de Alarma:\")\n",
        "print(arrhythmia_table)"
      ]
    },
    {
      "cell_type": "markdown",
      "metadata": {
        "id": "rvCb0a8Y3VXD"
      },
      "source": [
        "Imprimir la tabla de frecuencias para el Tipo de Alarma:"
      ]
    },
    {
      "cell_type": "code",
      "execution_count": null,
      "metadata": {
        "colab": {
          "base_uri": "https://localhost:8080/"
        },
        "id": "HjJTG3uI3xUh",
        "outputId": "d4ea1d64-7d92-4ef2-f3ce-8fb9d743befe"
      },
      "outputs": [
        {
          "output_type": "stream",
          "name": "stdout",
          "text": [
            "\n",
            "Tabla de Frecuencias - Tipo de Alarma:\n",
            "    Alarm Type  Conteo\n",
            "0  False alarm     456\n",
            "1   True alarm     294\n",
            "2        Total     750\n"
          ]
        }
      ],
      "source": [
        "# Generar la tabla de frecuencias para el tipo de alarma\n",
        "alarm_table = info_df.groupby(\"Alarm Type\").size().reset_index(name='Conteo')\n",
        "\n",
        "# Agregar una fila para el total al final de la tabla\n",
        "total_row_alarm = {\"Alarm Type\": \"Total\", \"Conteo\": alarm_table[\"Conteo\"].sum()}\n",
        "alarm_table = pd.concat([alarm_table, pd.DataFrame([total_row_alarm])], ignore_index=True)\n",
        "\n",
        "# Imprimir la tabla de frecuencias para el tipo de alarma\n",
        "print(\"\\nTabla de Frecuencias - Tipo de Alarma:\")\n",
        "print(alarm_table)\n"
      ]
    },
    {
      "cell_type": "markdown",
      "metadata": {
        "id": "MoKyICkS_L9I"
      },
      "source": [
        "Imprimir la tabla de frecuencias para Duración de los registro:"
      ]
    },
    {
      "cell_type": "code",
      "execution_count": null,
      "metadata": {
        "colab": {
          "base_uri": "https://localhost:8080/"
        },
        "id": "1ibsTqYq_JuK",
        "outputId": "58ff0028-d71c-4379-85c9-724cd8c13f52"
      },
      "outputs": [
        {
          "output_type": "stream",
          "name": "stdout",
          "text": [
            "\n",
            "Tabla de Frecuencias - Duración:\n",
            "   Duration (s)  Cantidad de Datos\n",
            "0         330.0                375\n",
            "1         300.0                375\n"
          ]
        }
      ],
      "source": [
        "# Contar la cantidad de datos para cada duración\n",
        "duration_counts = info_df['Duration (s)'].value_counts().reset_index()\n",
        "duration_counts.columns = ['Duration (s)', 'Cantidad de Datos']\n",
        "\n",
        "# Imprimir la tabla de frecuencias para la duración\n",
        "print(\"\\nTabla de Frecuencias - Duración:\")\n",
        "print(duration_counts)\n"
      ]
    }
  ],
  "metadata": {
    "colab": {
      "provenance": []
    },
    "kernelspec": {
      "display_name": "Python 3",
      "name": "python3"
    },
    "language_info": {
      "name": "python"
    }
  },
  "nbformat": 4,
  "nbformat_minor": 0
}
